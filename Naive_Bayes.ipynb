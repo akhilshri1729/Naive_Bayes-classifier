{
  "nbformat": 4,
  "nbformat_minor": 0,
  "metadata": {
    "colab": {
      "provenance": []
    },
    "kernelspec": {
      "name": "python3",
      "display_name": "Python 3"
    },
    "language_info": {
      "name": "python"
    }
  },
  "cells": [
    {
      "cell_type": "code",
      "source": [
        "#importing needed Libraries for this Assignemnt\n",
        "import numpy as np\n",
        "import pandas as pd\n",
        "import sklearn\n",
        "import time\n",
        "from sklearn.naive_bayes import GaussianNB\n",
        "from sklearn.naive_bayes import MultinomialNB\n",
        "from sklearn.model_selection import train_test_split\n",
        "from sklearn.preprocessing import LabelEncoder\n",
        "\n",
        "from sklearn import metrics\n",
        "from sklearn.metrics import accuracy_score"
      ],
      "metadata": {
        "id": "cAHEyuudagJX"
      },
      "execution_count": 3,
      "outputs": []
    },
    {
      "cell_type": "code",
      "source": [
        "#Load train and test dataset\n",
        "train_data =pd.read_csv('/content/SalaryData_Train.csv')\n",
        "test_data= pd.read_csv('/content/SalaryData_Test.csv')"
      ],
      "metadata": {
        "id": "V_S9IyPRdhPE"
      },
      "execution_count": 4,
      "outputs": []
    },
    {
      "cell_type": "code",
      "source": [
        "print(train_data.columns) #check all features of train data set"
      ],
      "metadata": {
        "colab": {
          "base_uri": "https://localhost:8080/"
        },
        "id": "oCAILa2Sf5O4",
        "outputId": "4d2689bd-e351-490c-d289-d9c4151d2b71"
      },
      "execution_count": 5,
      "outputs": [
        {
          "output_type": "stream",
          "name": "stdout",
          "text": [
            "Index(['age', 'workclass', 'education', 'educationno', 'maritalstatus',\n",
            "       'occupation', 'relationship', 'race', 'sex', 'capitalgain',\n",
            "       'capitalloss', 'hoursperweek', 'native', 'Salary'],\n",
            "      dtype='object')\n"
          ]
        }
      ]
    },
    {
      "cell_type": "code",
      "source": [
        "print(test_data.columns) # Check all features of test data set"
      ],
      "metadata": {
        "colab": {
          "base_uri": "https://localhost:8080/"
        },
        "id": "oAePGWILjDGc",
        "outputId": "5468f272-712e-4c2e-e2c9-d58049a676d9"
      },
      "execution_count": 6,
      "outputs": [
        {
          "output_type": "stream",
          "name": "stdout",
          "text": [
            "Index(['age', 'workclass', 'education', 'educationno', 'maritalstatus',\n",
            "       'occupation', 'relationship', 'race', 'sex', 'capitalgain',\n",
            "       'capitalloss', 'hoursperweek', 'native', 'Salary'],\n",
            "      dtype='object')\n"
          ]
        }
      ]
    },
    {
      "cell_type": "code",
      "source": [
        "train_data['Salary'] # check salary fetures with data"
      ],
      "metadata": {
        "colab": {
          "base_uri": "https://localhost:8080/"
        },
        "id": "wmbsHwAM1t0X",
        "outputId": "5ebac0a0-34a6-4a82-a65b-8f8aebf848f0"
      },
      "execution_count": 7,
      "outputs": [
        {
          "output_type": "execute_result",
          "data": {
            "text/plain": [
              "0         <=50K\n",
              "1         <=50K\n",
              "2         <=50K\n",
              "3         <=50K\n",
              "4         <=50K\n",
              "          ...  \n",
              "30156     <=50K\n",
              "30157      >50K\n",
              "30158     <=50K\n",
              "30159     <=50K\n",
              "30160      >50K\n",
              "Name: Salary, Length: 30161, dtype: object"
            ]
          },
          "metadata": {},
          "execution_count": 7
        }
      ]
    },
    {
      "cell_type": "code",
      "source": [
        "# label Encoding\n",
        "encoder = LabelEncoder()\n",
        "train_data['Salary'] = encoder.fit_transform(train_data['Salary'])\n",
        "test_data['Salary'] = encoder.transform(test_data['Salary'])"
      ],
      "metadata": {
        "id": "naHsiwIbe49Q"
      },
      "execution_count": 8,
      "outputs": []
    },
    {
      "cell_type": "code",
      "source": [
        "X_train = train_data.drop('Salary', axis=1)\n",
        "y_train = train_data['Salary']\n",
        "X_test = test_data.drop('Salary', axis=1)\n",
        "y_test = test_data['Salary']"
      ],
      "metadata": {
        "id": "0NStJVGylZtV"
      },
      "execution_count": 10,
      "outputs": []
    },
    {
      "cell_type": "code",
      "source": [
        "# Features (X) and Target (y) for both train and test datasets\n",
        "X_train = train_data[['age', 'workclass', 'education', 'educationno', 'maritalstatus',\n",
        "                     'occupation', 'relationship', 'race', 'sex', 'capitalgain',\n",
        "                     'capitalloss', 'hoursperweek', 'native']]\n",
        "y_train = train_data['Salary']\n",
        "\n",
        "X_test = test_data[['age', 'workclass', 'education', 'educationno', 'maritalstatus',\n",
        "                   'occupation', 'relationship', 'race', 'sex', 'capitalgain',\n",
        "                   'capitalloss', 'hoursperweek', 'native']]\n",
        "y_test = test_data['Salary']\n",
        "\n",
        "# Encoding categorical variables\n",
        "X_train = pd.get_dummies(X_train, columns=['workclass', 'education', 'maritalstatus', 'occupation', 'relationship', 'race', 'sex', 'native'])\n",
        "X_test = pd.get_dummies(X_test, columns=['workclass', 'education', 'maritalstatus', 'occupation', 'relationship', 'race', 'sex', 'native'])\n",
        "\n",
        "# Gaussian Naive Bayes\n",
        "start_time = time.time()\n",
        "gnb = GaussianNB()\n",
        "gnb.fit(X_train, y_train)\n",
        "gnb_pred = gnb.predict(X_test)\n",
        "gnb_accuracy = accuracy_score(y_test, gnb_pred)\n",
        "gnb_execution_time = time.time() - start_time\n",
        "\n",
        "print(\"Gaussian Naive Bayes Accuracy:\", gnb_accuracy)\n",
        "print(\"Gaussian Naive Bayes Execution Time (seconds):\", gnb_execution_time)"
      ],
      "metadata": {
        "colab": {
          "base_uri": "https://localhost:8080/"
        },
        "id": "sST995nL9p-y",
        "outputId": "3b015344-e84c-485b-ce6a-f83d505d63e8"
      },
      "execution_count": 11,
      "outputs": [
        {
          "output_type": "stream",
          "name": "stdout",
          "text": [
            "Gaussian Naive Bayes Accuracy: 0.8029216467463479\n",
            "Gaussian Naive Bayes Execution Time (seconds): 0.10189127922058105\n"
          ]
        }
      ]
    },
    {
      "cell_type": "code",
      "source": [
        "# Multinomial Naive Bayes\n",
        "start_time = time.time()\n",
        "mnb = MultinomialNB()\n",
        "mnb.fit(X_train, y_train)\n",
        "mnb_pred = mnb.predict(X_test)\n",
        "mnb_accuracy = accuracy_score(y_test, mnb_pred)\n",
        "mnb_execution_time = time.time() - start_time\n",
        "\n",
        "print(\"Multinomial Naive Bayes Accuracy:\", mnb_accuracy)\n",
        "print(\"Multinomial Naive Bayes Execution Time (seconds):\", mnb_execution_time)"
      ],
      "metadata": {
        "colab": {
          "base_uri": "https://localhost:8080/"
        },
        "id": "KEA518kW-Gh7",
        "outputId": "4fa19722-2e7c-481e-e348-ba77879671d9"
      },
      "execution_count": 12,
      "outputs": [
        {
          "output_type": "stream",
          "name": "stdout",
          "text": [
            "Multinomial Naive Bayes Accuracy: 0.7749667994687915\n",
            "Multinomial Naive Bayes Execution Time (seconds): 0.057333946228027344\n"
          ]
        }
      ]
    }
  ]
}